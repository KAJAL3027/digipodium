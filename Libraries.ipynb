{
 "cells": [
  {
   "attachments": {},
   "cell_type": "markdown",
   "metadata": {},
   "source": [
    "# Libraries or Modules\n",
    "- 'import lib_name'\n",
    "- 'import lib_nam as alias'\n",
    "\n",
    "eg..,'''import random as red'''\n",
    "\n",
    "- 'from lib_name import fun1,fun2,...'\n",
    "\n",
    "eg..,'''from random import randint,choice'''\n",
    "\n",
    "- 'from lib_name import*'\n",
    "\n",
    "eg..,'''from random import*'''"
   ]
  },
  {
   "cell_type": "code",
   "execution_count": 1,
   "metadata": {},
   "outputs": [],
   "source": [
    "import math"
   ]
  },
  {
   "cell_type": "code",
   "execution_count": 2,
   "metadata": {},
   "outputs": [
    {
     "name": "stdout",
     "output_type": "stream",
     "text": [
      "3.605551275463989\n",
      "1307674368000\n",
      "2.0\n",
      "6.643856189774725\n",
      "3.141592653589793\n",
      "2.718281828459045\n",
      "6\n",
      "72\n"
     ]
    }
   ],
   "source": [
    "print(math.sqrt(13))\n",
    "print(math.factorial(15))\n",
    "print(math.log(100,10))\n",
    "print(math.log(100,2))\n",
    "print(math.pi)\n",
    "print(math.e)\n",
    "print(math.gcd(12,18,24))\n",
    "print(math.lcm(12,18,24))"
   ]
  },
  {
   "cell_type": "code",
   "execution_count": 3,
   "metadata": {},
   "outputs": [],
   "source": [
    "from random import random,randint,choices,shuffle"
   ]
  },
  {
   "cell_type": "code",
   "execution_count": 4,
   "metadata": {},
   "outputs": [
    {
     "name": "stdout",
     "output_type": "stream",
     "text": [
      "get a random value between0 and 1: 0.6295715664267845\n",
      "get a random integer between 50 and 100: 99\n",
      "select a random item ['jane']\n",
      "shuffle a list ['jane', 'john', 'jill', 'jack']\n"
     ]
    }
   ],
   "source": [
    "print('get a random value between0 and 1:',random())\n",
    "print('get a random integer between 50 and 100:',randint(50,100))\n",
    "print('select a random item',choices (['john','jane','jack','jill','janie']))\n",
    "names = ['john','jane','jack','jill']\n",
    "shuffle(names)\n",
    "print('shuffle a list',names)"
   ]
  },
  {
   "cell_type": "code",
   "execution_count": 5,
   "metadata": {},
   "outputs": [],
   "source": [
    "from datetime import datetime as dt"
   ]
  },
  {
   "cell_type": "code",
   "execution_count": 6,
   "metadata": {},
   "outputs": [
    {
     "name": "stdout",
     "output_type": "stream",
     "text": [
      "current time 2023-03-13 22:54:16.431336\n",
      "current time 2023-03-13\n",
      "current time 22:54:16.431336\n",
      "timestamp 1678728256.431336\n",
      "year 2023\n",
      "month 3\n",
      "day 13\n"
     ]
    }
   ],
   "source": [
    "print('current time',dt.now())\n",
    "print('current time',dt.now().date())\n",
    "print('current time',dt.now().time())\n",
    "print('timestamp',dt.now().timestamp())\n",
    "print('year',dt.now().year)\n",
    "print('month',dt.now().month)\n",
    "print('day',dt.now().day)\n"
   ]
  },
  {
   "cell_type": "code",
   "execution_count": 18,
   "metadata": {},
   "outputs": [
    {
     "name": "stdout",
     "output_type": "stream",
     "text": [
      "formatted date 130323\n"
     ]
    }
   ],
   "source": [
    "date = dt.strftime(dt.now(),'%d%m%y')\n",
    "print('formatted date',date)"
   ]
  },
  {
   "cell_type": "code",
   "execution_count": 3,
   "metadata": {},
   "outputs": [],
   "source": [
    "import os"
   ]
  },
  {
   "cell_type": "code",
   "execution_count": 20,
   "metadata": {},
   "outputs": [
    {
     "name": "stdout",
     "output_type": "stream",
     "text": [
      "current folder c:\\Users\\pranj\\OneDrive\\Documents\\digipodium\n"
     ]
    }
   ],
   "source": [
    "print('current folder',os.getcwd())  # get current working directory"
   ]
  },
  {
   "cell_type": "code",
   "execution_count": 21,
   "metadata": {},
   "outputs": [
    {
     "name": "stdout",
     "output_type": "stream",
     "text": [
      "['.git', 'conditions.ipynb', 'dictionary.ipynb', 'func.ipynb', 'func2.ipynb', 'game1.py', 'hello.py', 'level1.ipynb', 'Libraries.ipynb', 'list.ipynb', 'loops.ipynb', 'nested..py', 'string.ipynb', 't1.py', 't2.py', 't3.py', 'tuples.ipynb']\n"
     ]
    }
   ],
   "source": [
    "files = os.listdir() # get all files in the current folder\n",
    "print(files)"
   ]
  },
  {
   "cell_type": "code",
   "execution_count": 24,
   "metadata": {},
   "outputs": [
    {
     "name": "stdout",
     "output_type": "stream",
     "text": [
      "['My Music', 'My Pictures', 'My Videos']\n",
      "3\n"
     ]
    }
   ],
   "source": [
    "files = os.listdir (r'C:\\users\\pranj\\documents')\n",
    "print(files)\n",
    "print(len(files))"
   ]
  },
  {
   "cell_type": "code",
   "execution_count": 1,
   "metadata": {},
   "outputs": [
    {
     "ename": "NameError",
     "evalue": "name 'os' is not defined",
     "output_type": "error",
     "traceback": [
      "\u001b[1;31m---------------------------------------------------------------------------\u001b[0m",
      "\u001b[1;31mNameError\u001b[0m                                 Traceback (most recent call last)",
      "Cell \u001b[1;32mIn[1], line 2\u001b[0m\n\u001b[0;32m      1\u001b[0m total_files \u001b[39m=\u001b[39m \u001b[39m0\u001b[39m\n\u001b[1;32m----> 2\u001b[0m \u001b[39mfor\u001b[39;00m path,folders,files \u001b[39min\u001b[39;00m os\u001b[39m.\u001b[39mwalk(\u001b[39m'\u001b[39m\u001b[39mC:/users/pranj/videos\u001b[39m\u001b[39m'\u001b[39m):\n\u001b[0;32m      3\u001b[0m  \u001b[39mprint\u001b[39m(\u001b[39m'\u001b[39m\u001b[39m=>\u001b[39m\u001b[39m'\u001b[39m,path)\n\u001b[0;32m      4\u001b[0m  \u001b[39mprint\u001b[39m(\u001b[39m'\u001b[39m\u001b[39m📁\u001b[39m\u001b[39m'\u001b[39m,folders)\n",
      "\u001b[1;31mNameError\u001b[0m: name 'os' is not defined"
     ]
    }
   ],
   "source": [
    "total_files = 0\n",
    "for path,folders,files in os.walk('C:/users/pranj/videos'):\n",
    " print('=>',path)\n",
    " print('📁',folders)\n",
    " print('📄',files)\n",
    " print('-' * 15) \n",
    " total_files  += len(files)\n",
    " print('total files', total_files)"
   ]
  },
  {
   "cell_type": "code",
   "execution_count": 2,
   "metadata": {},
   "outputs": [
    {
     "ename": "SyntaxError",
     "evalue": "unterminated string literal (detected at line 1) (3881502718.py, line 1)",
     "output_type": "error",
     "traceback": [
      "\u001b[1;36m  Cell \u001b[1;32mIn[2], line 1\u001b[1;36m\u001b[0m\n\u001b[1;33m    file = 'C:/users/pranj/videos/Assassin's Creed  Odyssey/Assassin's Creed Odyssey\u001b[0m\n\u001b[1;37m                                                                    ^\u001b[0m\n\u001b[1;31mSyntaxError\u001b[0m\u001b[1;31m:\u001b[0m unterminated string literal (detected at line 1)\n"
     ]
    }
   ],
   "source": [
    "file = 'C:/users/pranj/videos/Assassin's Creed  Odyssey/Assassin's Creed Odyssey \n",
    "if os.path.exists(file):\n",
    "    print('file exists')\n",
    "    size = os.path.getsize(file)\n",
    "    print('file size',size,'byte')\n",
    "    print('file size',size/1024,'KB')\n",
    "    print('file size',size/(1024*1024),'MB')\n",
    "    print('file size',size/(1024*1024*1024).'GB')\n",
    "\n",
    "else:\n",
    "    print('file dose not exist')\n"
   ]
  },
  {
   "cell_type": "code",
   "execution_count": null,
   "metadata": {},
   "outputs": [],
   "source": []
  }
 ],
 "metadata": {
  "kernelspec": {
   "display_name": "Python 3",
   "language": "python",
   "name": "python3"
  },
  "language_info": {
   "codemirror_mode": {
    "name": "ipython",
    "version": 3
   },
   "file_extension": ".py",
   "mimetype": "text/x-python",
   "name": "python",
   "nbconvert_exporter": "python",
   "pygments_lexer": "ipython3",
   "version": "3.10.8"
  },
  "orig_nbformat": 4
 },
 "nbformat": 4,
 "nbformat_minor": 2
}
