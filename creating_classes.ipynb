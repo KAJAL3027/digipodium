{
 "cells": [
  {
   "cell_type": "code",
   "execution_count": 30,
   "metadata": {},
   "outputs": [],
   "source": [
    "names = ['John', 'Bob', 'Mosh', 'Sarah', 'Mary']"
   ]
  },
  {
   "cell_type": "code",
   "execution_count": 31,
   "metadata": {},
   "outputs": [],
   "source": [
    "students =[\n",
    "    {'name':'John','college':'Sky high','qualification':'Bachelors'},\n",
    "    {'name':'Bob','college':'Sky high','qualification':'Masters'},\n",
    "    {'name':'Mosh','college':'Sky high','qualification':'Bachelors'},\n",
    "    {'name':'Sarah','college':'Sky high','qualification':'Bachelors'},\n",
    "]"
   ]
  },
  {
   "cell_type": "code",
   "execution_count": 34,
   "metadata": {},
   "outputs": [],
   "source": [
    "class Student:\n",
    "   def __init__(self,name,college,qualification):\n",
    "       self.name = name\n",
    "       self.college = college\n",
    "       self.qualification = qualification\n",
    "\n",
    "   def __repr__(self):\n",
    "       return self.name"
   ]
  },
  {
   "cell_type": "code",
   "execution_count": 35,
   "metadata": {},
   "outputs": [],
   "source": [
    "stdObjs = [ \n",
    "    Student('Rohan','Sky high','Bachelors'),\n",
    "    Student('Rahul','Sky high','Masters'),\n",
    "    Student('Raj','Sky high','Bachelors'),\n",
    "    Student('Ravi','Sky high','Bachelors')\n",
    "]"
   ]
  },
  {
   "cell_type": "code",
   "execution_count": 36,
   "metadata": {},
   "outputs": [
    {
     "data": {
      "text/plain": [
       "[{'name': 'John', 'college': 'Sky high', 'qualification': 'Bachelors'},\n",
       " {'name': 'Bob', 'college': 'Sky high', 'qualification': 'Masters'},\n",
       " {'name': 'Mosh', 'college': 'Sky high', 'qualification': 'Bachelors'},\n",
       " {'name': 'Sarah', 'college': 'Sky high', 'qualification': 'Bachelors'}]"
      ]
     },
     "execution_count": 36,
     "metadata": {},
     "output_type": "execute_result"
    }
   ],
   "source": [
    "students"
   ]
  },
  {
   "cell_type": "code",
   "execution_count": 37,
   "metadata": {},
   "outputs": [
    {
     "data": {
      "text/plain": [
       "[Rohan, Rahul, Raj, Ravi]"
      ]
     },
     "execution_count": 37,
     "metadata": {},
     "output_type": "execute_result"
    }
   ],
   "source": [
    "stdObjs"
   ]
  },
  {
   "cell_type": "code",
   "execution_count": 58,
   "metadata": {},
   "outputs": [],
   "source": [
    "class Triangle:\n",
    "    def __init__(self, b=0, h=0):\n",
    "        self.base = b\n",
    "        self.height = h\n",
    "\n",
    "\n",
    "    def area(self):\n",
    "        return self.base * self.height/2\n",
    "    \n",
    "    \n",
    "    def __repr__(self):\n",
    "        return f'Triangle({self.area()})'"
   ]
  },
  {
   "cell_type": "code",
   "execution_count": 59,
   "metadata": {},
   "outputs": [
    {
     "data": {
      "text/plain": [
       "[Triangle(30.0), Triangle(25.0), Triangle(60.0), Triangle(75.0)]"
      ]
     },
     "execution_count": 59,
     "metadata": {},
     "output_type": "execute_result"
    }
   ],
   "source": [
    "data = [Triangle(12,5), Triangle(10,5), Triangle(8,15), Triangle(6,25)]\n",
    "data"
   ]
  },
  {
   "cell_type": "code",
   "execution_count": 62,
   "metadata": {},
   "outputs": [],
   "source": [
    "import os\n",
    "class Reader:\n",
    "    def __init__(self, path):\n",
    "        if not os.path.exists(path):\n",
    "            raise Exception('File does not exist')\n",
    "        self.path = path\n",
    "        self.content = self.read()\n",
    "    def read(self):\n",
    "        with open(self.path, 'r') as f:\n",
    "            return f.read()\n",
    "            \n",
    "    def count_words(self):\n",
    "        return len(self.content.split())\n",
    "        \n",
    "    def count_chars(self):\n",
    "        return len(self.content)\n",
    "        \n",
    "    def __repr__(self):\n",
    "        return self.content"
   ]
  },
  {
   "cell_type": "code",
   "execution_count": 63,
   "metadata": {},
   "outputs": [
    {
     "ename": "Exception",
     "evalue": "File does not exist",
     "output_type": "error",
     "traceback": [
      "\u001b[1;31m---------------------------------------------------------------------------\u001b[0m",
      "\u001b[1;31mException\u001b[0m                                 Traceback (most recent call last)",
      "Cell \u001b[1;32mIn[63], line 1\u001b[0m\n\u001b[1;32m----> 1\u001b[0m r1 \u001b[39m=\u001b[39m Reader(\u001b[39m'\u001b[39;49m\u001b[39mnested.py\u001b[39;49m\u001b[39m'\u001b[39;49m)\n",
      "Cell \u001b[1;32mIn[62], line 5\u001b[0m, in \u001b[0;36mReader.__init__\u001b[1;34m(self, path)\u001b[0m\n\u001b[0;32m      3\u001b[0m \u001b[39mdef\u001b[39;00m \u001b[39m__init__\u001b[39m(\u001b[39mself\u001b[39m, path):\n\u001b[0;32m      4\u001b[0m     \u001b[39mif\u001b[39;00m \u001b[39mnot\u001b[39;00m os\u001b[39m.\u001b[39mpath\u001b[39m.\u001b[39mexists(path):\n\u001b[1;32m----> 5\u001b[0m         \u001b[39mraise\u001b[39;00m \u001b[39mException\u001b[39;00m(\u001b[39m'\u001b[39m\u001b[39mFile does not exist\u001b[39m\u001b[39m'\u001b[39m)\n\u001b[0;32m      6\u001b[0m     \u001b[39mself\u001b[39m\u001b[39m.\u001b[39mpath \u001b[39m=\u001b[39m path\n\u001b[0;32m      7\u001b[0m     \u001b[39mself\u001b[39m\u001b[39m.\u001b[39mcontent \u001b[39m=\u001b[39m \u001b[39mself\u001b[39m\u001b[39m.\u001b[39mread()\n",
      "\u001b[1;31mException\u001b[0m: File does not exist"
     ]
    }
   ],
   "source": [
    "r1 = Reader('nested.py')"
   ]
  },
  {
   "cell_type": "code",
   "execution_count": 4,
   "metadata": {},
   "outputs": [],
   "source": [
    "class User:\n",
    "    def _init_(self,name,age=21,gender='female'):\n",
    "        self.name = age\n",
    "        self.gender = gender\n",
    "\n",
    "        def _repr_(self):\n",
    "            return self.name"
   ]
  },
  {
   "cell_type": "code",
   "execution_count": 7,
   "metadata": {},
   "outputs": [
    {
     "ename": "TypeError",
     "evalue": "User() takes no arguments",
     "output_type": "error",
     "traceback": [
      "\u001b[1;31m---------------------------------------------------------------------------\u001b[0m",
      "\u001b[1;31mTypeError\u001b[0m                                 Traceback (most recent call last)",
      "Cell \u001b[1;32mIn[7], line 1\u001b[0m\n\u001b[1;32m----> 1\u001b[0m u1 \u001b[39m=\u001b[39m User(\u001b[39m'\u001b[39;49m\u001b[39mShahid\u001b[39;49m\u001b[39m'\u001b[39;49m,\u001b[39m23\u001b[39;49m,\u001b[39m'\u001b[39;49m\u001b[39mmale\u001b[39;49m\u001b[39m'\u001b[39;49m)\n\u001b[0;32m      2\u001b[0m u1\n",
      "\u001b[1;31mTypeError\u001b[0m: User() takes no arguments"
     ]
    }
   ],
   "source": [
    "u1 = User('Shahid',23,'male')\n",
    "u1 "
   ]
  },
  {
   "cell_type": "code",
   "execution_count": 9,
   "metadata": {},
   "outputs": [],
   "source": [
    "class Student(User):\n",
    "    def _init_(self,nm,college,klass,rollno,age=21,gdr='female'):\n",
    "        super()._init_(nm,age,gdr)\n",
    "        self.college = college\n",
    "        self.klass = klass\n",
    "        self.rollno = rollno\n",
    "\n",
    "        def info(self):\n",
    "            print('Student details')\n",
    "            print('Name:',self.name)\n",
    "            print('Age:',self.age)\n",
    "            print('College:',self.college)\n",
    "            print('Class:',self.klass)\n",
    "            print('Roll no:',self.rolno)\n",
    "            print('*x*'*10)"
   ]
  },
  {
   "cell_type": "code",
   "execution_count": 11,
   "metadata": {},
   "outputs": [
    {
     "ename": "TypeError",
     "evalue": "Student() takes no arguments",
     "output_type": "error",
     "traceback": [
      "\u001b[1;31m---------------------------------------------------------------------------\u001b[0m",
      "\u001b[1;31mTypeError\u001b[0m                                 Traceback (most recent call last)",
      "Cell \u001b[1;32mIn[11], line 1\u001b[0m\n\u001b[1;32m----> 1\u001b[0m s1 \u001b[39m=\u001b[39m Student(\u001b[39m'\u001b[39;49m\u001b[39mSagar\u001b[39;49m\u001b[39m'\u001b[39;49m,\u001b[39m'\u001b[39;49m\u001b[39mbob\u001b[39;49m\u001b[39m'\u001b[39;49m,\u001b[39m'\u001b[39;49m\u001b[39mMsc\u001b[39;49m\u001b[39m'\u001b[39;49m,\u001b[39m'\u001b[39;49m\u001b[39m391200\u001b[39;49m\u001b[39m'\u001b[39;49m,age \u001b[39m=\u001b[39;49m\u001b[39m25\u001b[39;49m,gdr\u001b[39m=\u001b[39;49m\u001b[39m'\u001b[39;49m\u001b[39mmale\u001b[39;49m\u001b[39m'\u001b[39;49m)\n\u001b[0;32m      2\u001b[0m s1\n",
      "\u001b[1;31mTypeError\u001b[0m: Student() takes no arguments"
     ]
    }
   ],
   "source": [
    "s1 = Student('Sagar','bob','Msc','391200',age =25,gdr='male')\n",
    "s1"
   ]
  },
  {
   "cell_type": "code",
   "execution_count": 12,
   "metadata": {},
   "outputs": [
    {
     "ename": "NameError",
     "evalue": "name 's1' is not defined",
     "output_type": "error",
     "traceback": [
      "\u001b[1;31m---------------------------------------------------------------------------\u001b[0m",
      "\u001b[1;31mNameError\u001b[0m                                 Traceback (most recent call last)",
      "Cell \u001b[1;32mIn[12], line 1\u001b[0m\n\u001b[1;32m----> 1\u001b[0m s1\u001b[39m.\u001b[39minfo()\n",
      "\u001b[1;31mNameError\u001b[0m: name 's1' is not defined"
     ]
    }
   ],
   "source": [
    "s1.info()"
   ]
  },
  {
   "cell_type": "code",
   "execution_count": 14,
   "metadata": {},
   "outputs": [],
   "source": [
    "x=[1,2,3,4,5]\n",
    "y=[10,20,30,40,50]"
   ]
  },
  {
   "cell_type": "code",
   "execution_count": 15,
   "metadata": {},
   "outputs": [],
   "source": [
    "class MyList(list):\n",
    "    def _mul_(self,other):\n",
    "        output =[]\n",
    "        for i,j in zip(self,other):\n",
    "            output.append(i*j)\n",
    "            return output\n",
    "        \n",
    "        def sum(self):\n",
    "            return sum(self)\n",
    "        \n",
    "        def mean(self):\n",
    "            return sum(self)/len(self)"
   ]
  },
  {
   "cell_type": "code",
   "execution_count": 16,
   "metadata": {},
   "outputs": [
    {
     "ename": "TypeError",
     "evalue": "can't multiply sequence by non-int of type 'MyList'",
     "output_type": "error",
     "traceback": [
      "\u001b[1;31m---------------------------------------------------------------------------\u001b[0m",
      "\u001b[1;31mTypeError\u001b[0m                                 Traceback (most recent call last)",
      "Cell \u001b[1;32mIn[16], line 3\u001b[0m\n\u001b[0;32m      1\u001b[0m x \u001b[39m=\u001b[39m MyList([\u001b[39m1\u001b[39m,\u001b[39m2\u001b[39m,\u001b[39m3\u001b[39m,\u001b[39m4\u001b[39m,\u001b[39m5\u001b[39m])\n\u001b[0;32m      2\u001b[0m y \u001b[39m=\u001b[39m MyList([\u001b[39m10\u001b[39m,\u001b[39m20\u001b[39m,\u001b[39m30\u001b[39m,\u001b[39m40\u001b[39m,\u001b[39m50\u001b[39m])\n\u001b[1;32m----> 3\u001b[0m x \u001b[39m*\u001b[39;49m y\n",
      "\u001b[1;31mTypeError\u001b[0m: can't multiply sequence by non-int of type 'MyList'"
     ]
    }
   ],
   "source": [
    "x = MyList([1,2,3,4,5])\n",
    "y = MyList([10,20,30,40,50])\n",
    "x * y"
   ]
  },
  {
   "cell_type": "code",
   "execution_count": null,
   "metadata": {},
   "outputs": [],
   "source": []
  }
 ],
 "metadata": {
  "kernelspec": {
   "display_name": "base",
   "language": "python",
   "name": "python3"
  },
  "language_info": {
   "codemirror_mode": {
    "name": "ipython",
    "version": 3
   },
   "file_extension": ".py",
   "mimetype": "text/x-python",
   "name": "python",
   "nbconvert_exporter": "python",
   "pygments_lexer": "ipython3",
   "version": "3.10.8"
  },
  "orig_nbformat": 4
 },
 "nbformat": 4,
 "nbformat_minor": 2
}
