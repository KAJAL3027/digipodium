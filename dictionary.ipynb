{
 "cells": [
  {
   "attachments": {},
   "cell_type": "markdown",
   "metadata": {},
   "source": [
    "# Dictionary\n",
    "- ordered data structure\n",
    "- unindexed,mutable\n",
    "- key : value pair\n",
    "- key is immutable,unique\n",
    "- value is mutable and can be duplicated and heterogeneous\n",
    "- dictionary can be nested\n",
    "- dictionary can be created using dict() function\n",
    "- dictionary can be created using {} curly braces"
   ]
  },
  {
   "cell_type": "code",
   "execution_count": 1,
   "metadata": {},
   "outputs": [
    {
     "name": "stdout",
     "output_type": "stream",
     "text": [
      "['Brandson sanderson', 'The lost metal', '7', 'Fantasy', '2022', '19.00']\n"
     ]
    }
   ],
   "source": [
    "details = ['Brandson sanderson','The lost metal','7','Fantasy','2022','19.00']\n",
    "print(details)"
   ]
  },
  {
   "cell_type": "code",
   "execution_count": 2,
   "metadata": {},
   "outputs": [],
   "source": [
    "details_dict = {\n",
    "    'Author' : 'Brandon Sanderson',\n",
    "    'Title'  : 'The Lost Metal',\n",
    "    'part'   : 7,\n",
    "    'Genre'  :'Fantasy',\n",
    "    'Release date' : '2022',\n",
    "    'price' : '$19.00'\n",
    "}"
   ]
  },
  {
   "cell_type": "code",
   "execution_count": 4,
   "metadata": {},
   "outputs": [
    {
     "name": "stdout",
     "output_type": "stream",
     "text": [
      "{'Author': 'Brandon Sanderson', 'Title': 'The Lost Metal', 'part': 7, 'Genre': 'Fantasy', 'Release date': '2022', 'price': '$19.00'}\n",
      "<class 'dict'>\n"
     ]
    }
   ],
   "source": [
    "print(details_dict)\n",
    "print(type(details_dict))"
   ]
  },
  {
   "cell_type": "code",
   "execution_count": 5,
   "metadata": {},
   "outputs": [
    {
     "data": {
      "text/plain": [
       "'Brandon Sanderson'"
      ]
     },
     "execution_count": 5,
     "metadata": {},
     "output_type": "execute_result"
    }
   ],
   "source": [
    "details_dict['Author']"
   ]
  },
  {
   "cell_type": "code",
   "execution_count": 6,
   "metadata": {},
   "outputs": [
    {
     "data": {
      "text/plain": [
       "'2022'"
      ]
     },
     "execution_count": 6,
     "metadata": {},
     "output_type": "execute_result"
    }
   ],
   "source": [
    "details_dict['Release date']"
   ]
  },
  {
   "cell_type": "code",
   "execution_count": 7,
   "metadata": {},
   "outputs": [],
   "source": [
    "details_dict['Release date'] ='15 Nov,22'"
   ]
  },
  {
   "cell_type": "code",
   "execution_count": 8,
   "metadata": {},
   "outputs": [
    {
     "data": {
      "text/plain": [
       "{'Author': 'Brandon Sanderson',\n",
       " 'Title': 'The Lost Metal',\n",
       " 'part': 7,\n",
       " 'Genre': 'Fantasy',\n",
       " 'Release date': '15 Nov,22',\n",
       " 'price': '$19.00'}"
      ]
     },
     "execution_count": 8,
     "metadata": {},
     "output_type": "execute_result"
    }
   ],
   "source": [
    "details_dict"
   ]
  },
  {
   "cell_type": "code",
   "execution_count": 9,
   "metadata": {},
   "outputs": [],
   "source": [
    "details_dict['Pages'] = 528"
   ]
  },
  {
   "cell_type": "code",
   "execution_count": 10,
   "metadata": {},
   "outputs": [
    {
     "data": {
      "text/plain": [
       "{'Author': 'Brandon Sanderson',\n",
       " 'Title': 'The Lost Metal',\n",
       " 'part': 7,\n",
       " 'Genre': 'Fantasy',\n",
       " 'Release date': '15 Nov,22',\n",
       " 'price': '$19.00',\n",
       " 'Pages': 528}"
      ]
     },
     "execution_count": 10,
     "metadata": {},
     "output_type": "execute_result"
    }
   ],
   "source": [
    "details_dict"
   ]
  },
  {
   "cell_type": "code",
   "execution_count": 11,
   "metadata": {},
   "outputs": [
    {
     "name": "stdout",
     "output_type": "stream",
     "text": [
      "Author\n",
      "Title\n",
      "part\n",
      "Genre\n",
      "Release date\n",
      "price\n",
      "Pages\n"
     ]
    }
   ],
   "source": [
    "for k in details_dict:\n",
    "    print(k)"
   ]
  },
  {
   "cell_type": "code",
   "execution_count": 12,
   "metadata": {},
   "outputs": [
    {
     "name": "stdout",
     "output_type": "stream",
     "text": [
      "Brandon Sanderson\n",
      "The Lost Metal\n",
      "7\n",
      "Fantasy\n",
      "15 Nov,22\n",
      "$19.00\n",
      "528\n"
     ]
    }
   ],
   "source": [
    "# values\n",
    "for k in details_dict:\n",
    "    print(details_dict[k])"
   ]
  },
  {
   "cell_type": "code",
   "execution_count": 13,
   "metadata": {},
   "outputs": [
    {
     "name": "stdout",
     "output_type": "stream",
     "text": [
      "Author               Brandon Sanderson\n",
      "Title                The Lost Metal\n",
      "part                 7\n",
      "Genre                Fantasy\n",
      "Release date         15 Nov,22\n",
      "price                $19.00\n",
      "Pages                528\n"
     ]
    }
   ],
   "source": [
    "for k,v in details_dict.items():\n",
    "    print(f'{k:20} {v}')"
   ]
  },
  {
   "cell_type": "code",
   "execution_count": 14,
   "metadata": {},
   "outputs": [
    {
     "data": {
      "text/plain": [
       "['Brandon Sanderson',\n",
       " 'The Lost Metal',\n",
       " 7,\n",
       " 'Fantasy',\n",
       " '15 Nov,22',\n",
       " '$19.00',\n",
       " 528]"
      ]
     },
     "execution_count": 14,
     "metadata": {},
     "output_type": "execute_result"
    }
   ],
   "source": [
    "list(details_dict.values())"
   ]
  },
  {
   "cell_type": "code",
   "execution_count": 15,
   "metadata": {},
   "outputs": [
    {
     "data": {
      "text/plain": [
       "['Author', 'Title', 'part', 'Genre', 'Release date', 'price', 'Pages']"
      ]
     },
     "execution_count": 15,
     "metadata": {},
     "output_type": "execute_result"
    }
   ],
   "source": [
    "list(details_dict.keys())"
   ]
  },
  {
   "cell_type": "code",
   "execution_count": 16,
   "metadata": {},
   "outputs": [],
   "source": [
    "details_dict.get('pages,0')"
   ]
  },
  {
   "cell_type": "code",
   "execution_count": null,
   "metadata": {},
   "outputs": [],
   "source": []
  }
 ],
 "metadata": {
  "kernelspec": {
   "display_name": "base",
   "language": "python",
   "name": "python3"
  },
  "language_info": {
   "codemirror_mode": {
    "name": "ipython",
    "version": 3
   },
   "file_extension": ".py",
   "mimetype": "text/x-python",
   "name": "python",
   "nbconvert_exporter": "python",
   "pygments_lexer": "ipython3",
   "version": "3.10.8"
  },
  "orig_nbformat": 4
 },
 "nbformat": 4,
 "nbformat_minor": 2
}
