{
 "cells": [
  {
   "attachments": {},
   "cell_type": "markdown",
   "metadata": {},
   "source": [
    "# PYTHON BASICS\n",
    "\n",
    "### level 01\n",
    "-variables\n",
    "-input output\n",
    "-operator\n",
    "-datatypes\n",
    "\n",
    "### level 02\n",
    "-conditional statements\n",
    " -if\n",
    " -ifelse\n",
    " -elif\n",
    " -match\n",
    "-loops\n",
    " -for\n",
    " -while\n",
    "-fuctions\n",
    "\n",
    "### level 03\n",
    "-string\n",
    "-dict\n",
    "-list\n",
    "-set and tuple\n",
    "\n",
    "> This is markdown"
   ]
  },
  {
   "cell_type": "markdown",
   "metadata": {},
   "source": []
  },
  {
   "cell_type": "markdown",
   "metadata": {},
   "source": []
  }
 ],
 "metadata": {
  "kernelspec": {
   "display_name": "base",
   "language": "python",
   "name": "python3"
  },
  "language_info": {
   "codemirror_mode": {
    "name": "ipython",
    "version": 3
   },
   "file_extension": ".py",
   "mimetype": "text/x-python",
   "name": "python",
   "nbconvert_exporter": "python",
   "pygments_lexer": "ipython3",
   "version": "3.10.8"
  },
  "orig_nbformat": 4,
  "vscode": {
   "interpreter": {
    "hash": "86e6016e0c90583c74e540beea159c904b10886bddac9d9198975ca2a6dd9f68"
   }
  }
 },
 "nbformat": 4,
 "nbformat_minor": 2
}
