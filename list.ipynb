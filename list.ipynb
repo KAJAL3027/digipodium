{
 "cells": [
  {
   "cell_type": "code",
   "execution_count": 3,
   "metadata": {},
   "outputs": [],
   "source": [
    "a=[] # empty list\n",
    "b=[1,2,3,4,5,6,7,] # list of integers\n",
    "c=['apple','banana','orange'] # list of strings\n",
    "d=[[1,2,3],[4,5,6],[7,8,9]] #list of lists (nested list)\n",
    "e=['apple',20, False ,'mango',50.5,True]"
   ]
  },
  {
   "cell_type": "code",
   "execution_count": 4,
   "metadata": {},
   "outputs": [
    {
     "name": "stdout",
     "output_type": "stream",
     "text": [
      "['t', 'h', 'e', ' ', 'l', 'o', 's', 't', ' ', 'm', 'e', 't', 'a', 'l']\n"
     ]
    }
   ],
   "source": [
    "word='the lost metal'\n",
    "chars=list(word)\n",
    "print(chars)"
   ]
  },
  {
   "cell_type": "code",
   "execution_count": 6,
   "metadata": {},
   "outputs": [
    {
     "name": "stdout",
     "output_type": "stream",
     "text": [
      "[1, 2, 3, 1, 2, 3, 1, 2, 3, 1, 2, 3, 1, 2, 3]\n"
     ]
    }
   ],
   "source": [
    "f=[1,2,3] * 5 # repeat list 5 times\n",
    "print(f)"
   ]
  },
  {
   "cell_type": "code",
   "execution_count": 7,
   "metadata": {},
   "outputs": [],
   "source": [
    "name = input(\"enter a name:\")\n",
    "a.append(name)"
   ]
  },
  {
   "cell_type": "code",
   "execution_count": 10,
   "metadata": {},
   "outputs": [
    {
     "data": {
      "text/plain": [
       "15"
      ]
     },
     "execution_count": 10,
     "metadata": {},
     "output_type": "execute_result"
    }
   ],
   "source": [
    "movies = ['badla','baazigar','shershah','race','kabir singh','selfie',\n",
    "'harry potter','mission majnu','mirzapur','swarg','baghbaan','pathaan',\n",
    "'lost','thank god','broken heart'\n",
    "]\n",
    "len(movies)"
   ]
  },
  {
   "cell_type": "code",
   "execution_count": 17,
   "metadata": {},
   "outputs": [
    {
     "name": "stdout",
     "output_type": "stream",
     "text": [
      "harry potter\n",
      "broken heart\n"
     ]
    }
   ],
   "source": [
    "print(movies[6])\n",
    "print(movies[-1])"
   ]
  },
  {
   "cell_type": "code",
   "execution_count": 18,
   "metadata": {},
   "outputs": [
    {
     "name": "stdout",
     "output_type": "stream",
     "text": [
      "['badla', 'baazigar', 'shershah', 'race', 'race', 'selfie', 'harry potter', 'mission majnu', 'mirzapur', 'swarg', 'baghbaan', 'pathaan', 'lost', 'thank god', 'broken heart']\n"
     ]
    }
   ],
   "source": [
    "movies[4] = 'race'\n",
    "print(movies)"
   ]
  },
  {
   "cell_type": "code",
   "execution_count": 11,
   "metadata": {},
   "outputs": [
    {
     "name": "stdout",
     "output_type": "stream",
     "text": [
      "['badla', 'baazigar', 'shershah', 'race', 'kabir singh']\n",
      "['baghbaan', 'pathaan', 'lost', 'thank god', 'broken heart']\n",
      "['race', 'kabir singh', 'selfie', 'harry potter', 'mission majnu', 'mirzapur', 'swarg', 'baghbaan', 'pathaan']\n",
      "['broken heart', 'thank god', 'lost', 'pathaan', 'baghbaan', 'swarg', 'mirzapur', 'mission majnu', 'harry potter', 'selfie', 'kabir singh', 'race', 'shershah', 'baazigar', 'badla']\n",
      "['badla', 'shershah', 'kabir singh', 'harry potter', 'mirzapur', 'baghbaan', 'lost', 'broken heart']\n",
      "['badla', 'race', 'harry potter', 'swarg', 'lost']\n"
     ]
    }
   ],
   "source": [
    "# first 5 movies\n",
    "print (movies[:5])\n",
    "# last 5 movies\n",
    "print(movies[-5:])\n",
    "# all movies except first 3 and last 3\n",
    "print(movies[3:-3])\n",
    "# all movies but in reverse order \n",
    "print(movies[::-1])\n",
    "# only even indexed movies \n",
    "print(movies[::2])\n",
    "# every 3rd index movie\n",
    "print(movies[::3])"
   ]
  },
  {
   "attachments": {},
   "cell_type": "markdown",
   "metadata": {},
   "source": [
    "# methods"
   ]
  },
  {
   "cell_type": "code",
   "execution_count": 13,
   "metadata": {},
   "outputs": [
    {
     "name": "stdout",
     "output_type": "stream",
     "text": [
      "['badla', 'baazigar', 'shershah', 'race', 'kabir singh', 'selfie', 'harry potter', 'mission majnu', 'mirzapur', 'swarg', 'baghbaan', 'pathaan', 'lost', 'thank god', 'broken heart', 'The Matrix', 'The Matrix']\n"
     ]
    }
   ],
   "source": [
    "movies.append('The Matrix') \n",
    "print(movies)"
   ]
  },
  {
   "cell_type": "code",
   "execution_count": 15,
   "metadata": {},
   "outputs": [],
   "source": [
    "for i in range(3):\n",
    "    name = input(\"enter a name:\")\n",
    "    movies.append(name)"
   ]
  },
  {
   "cell_type": "code",
   "execution_count": 16,
   "metadata": {},
   "outputs": [
    {
     "name": "stdout",
     "output_type": "stream",
     "text": [
      "['badla', 'baazigar', 'shershah', 'race', 'kabir singh', 'selfie', 'harry potter', 'mission majnu', 'mirzapur', 'swarg', 'baghbaan', 'pathaan', 'lost', 'thank god', 'broken heart', 'The Matrix', 'The Matrix', 'krish', 'stardust', 'jannat']\n"
     ]
    }
   ],
   "source": [
    "print(movies)"
   ]
  },
  {
   "cell_type": "code",
   "execution_count": 17,
   "metadata": {},
   "outputs": [
    {
     "data": {
      "text/plain": [
       "18"
      ]
     },
     "execution_count": 17,
     "metadata": {},
     "output_type": "execute_result"
    }
   ],
   "source": [
    "movies.index('stardust')"
   ]
  },
  {
   "cell_type": "code",
   "execution_count": 18,
   "metadata": {},
   "outputs": [
    {
     "name": "stdout",
     "output_type": "stream",
     "text": [
      "['badla', 'baazigar', 'shershah', 'race', 'kabir singh', 'selfie', 'harry potter', 'mission majnu', 'mirzapur', 'swarg', 'baghbaan', 'pathaan', 'lost', 'thank god', 'broken heart', 'The Matrix', 'The Matrix', 'krish 3', 'krish', 'stardust', 'jannat']\n"
     ]
    }
   ],
   "source": [
    "movies.insert(17,'krish 3')\n",
    "print(movies)"
   ]
  },
  {
   "cell_type": "code",
   "execution_count": 21,
   "metadata": {},
   "outputs": [
    {
     "name": "stdout",
     "output_type": "stream",
     "text": [
      "['badla', 'baazigar', 'shershah', 'race', 'kabir singh', 'selfie', 'harry potter', 'mission majnu', 'mirzapur', 'swarg', 'baghbaan', 'pathaan', 'lost', 'thank god', 'broken heart', 'The Matrix', 'Matrix:Reloaded', 'krish 3', 'krish', 'stardust', 'jannat']\n"
     ]
    }
   ],
   "source": [
    "movies[-5] = 'Matrix:Reloaded'\n",
    "print(movies)"
   ]
  },
  {
   "cell_type": "code",
   "execution_count": 22,
   "metadata": {},
   "outputs": [],
   "source": [
    "movies.remove('krish')"
   ]
  },
  {
   "cell_type": "code",
   "execution_count": 23,
   "metadata": {},
   "outputs": [
    {
     "data": {
      "text/plain": [
       "'race'"
      ]
     },
     "execution_count": 23,
     "metadata": {},
     "output_type": "execute_result"
    }
   ],
   "source": [
    "movies.pop(3) # remove movie at index 3"
   ]
  },
  {
   "cell_type": "code",
   "execution_count": 24,
   "metadata": {},
   "outputs": [
    {
     "name": "stdout",
     "output_type": "stream",
     "text": [
      "harry potter\n"
     ]
    }
   ],
   "source": [
    "movies_removed = movies.pop(5)\n",
    "print(movies_removed)"
   ]
  },
  {
   "cell_type": "code",
   "execution_count": 25,
   "metadata": {},
   "outputs": [],
   "source": [
    "x = [1,2,3]\n",
    "y = [4,5,6]"
   ]
  },
  {
   "cell_type": "code",
   "execution_count": 26,
   "metadata": {},
   "outputs": [
    {
     "data": {
      "text/plain": [
       "[1, 2, 3, 4, 5, 6]"
      ]
     },
     "execution_count": 26,
     "metadata": {},
     "output_type": "execute_result"
    }
   ],
   "source": [
    "x + y"
   ]
  },
  {
   "cell_type": "code",
   "execution_count": 27,
   "metadata": {},
   "outputs": [
    {
     "name": "stdout",
     "output_type": "stream",
     "text": [
      "[1, 2, 3, 4, 5, 6]\n"
     ]
    }
   ],
   "source": [
    "x.extend(y)\n",
    "print(x)"
   ]
  },
  {
   "cell_type": "code",
   "execution_count": 28,
   "metadata": {},
   "outputs": [
    {
     "name": "stdout",
     "output_type": "stream",
     "text": [
      "['jannat', 'stardust', 'krish 3', 'Matrix:Reloaded', 'The Matrix', 'broken heart', 'thank god', 'lost', 'pathaan', 'baghbaan', 'swarg', 'mirzapur', 'mission majnu', 'selfie', 'kabir singh', 'shershah', 'baazigar', 'badla']\n"
     ]
    }
   ],
   "source": [
    "movies.reverse()\n",
    "print(movies)"
   ]
  },
  {
   "cell_type": "code",
   "execution_count": 29,
   "metadata": {},
   "outputs": [
    {
     "name": "stdout",
     "output_type": "stream",
     "text": [
      "['Matrix:Reloaded', 'The Matrix', 'baazigar', 'badla', 'baghbaan', 'broken heart', 'jannat', 'kabir singh', 'krish 3', 'lost', 'mirzapur', 'mission majnu', 'pathaan', 'selfie', 'shershah', 'stardust', 'swarg', 'thank god']\n"
     ]
    }
   ],
   "source": [
    "movies.sort()\n",
    "print(movies)"
   ]
  },
  {
   "cell_type": "code",
   "execution_count": 31,
   "metadata": {},
   "outputs": [
    {
     "name": "stdout",
     "output_type": "stream",
     "text": [
      "['thank god', 'swarg', 'stardust', 'shershah', 'selfie', 'pathaan', 'mission majnu', 'mirzapur', 'lost', 'krish 3', 'kabir singh', 'jannat', 'broken heart', 'baghbaan', 'badla', 'baazigar', 'The Matrix', 'Matrix:Reloaded']\n"
     ]
    }
   ],
   "source": [
    "movies.sort(reverse = True)\n",
    "print(movies)"
   ]
  },
  {
   "cell_type": "code",
   "execution_count": 33,
   "metadata": {},
   "outputs": [
    {
     "data": {
      "text/plain": [
       "1"
      ]
     },
     "execution_count": 33,
     "metadata": {},
     "output_type": "execute_result"
    }
   ],
   "source": [
    "movies.count('shershah')"
   ]
  },
  {
   "cell_type": "code",
   "execution_count": 34,
   "metadata": {},
   "outputs": [
    {
     "data": {
      "text/plain": [
       "1"
      ]
     },
     "execution_count": 34,
     "metadata": {},
     "output_type": "execute_result"
    }
   ],
   "source": [
    "movies.count('mission majnu')"
   ]
  },
  {
   "cell_type": "code",
   "execution_count": 35,
   "metadata": {},
   "outputs": [
    {
     "name": "stdout",
     "output_type": "stream",
     "text": [
      "4\n",
      "4\n",
      "1\n"
     ]
    }
   ],
   "source": [
    "x = [1,2,1,2,1,2,1,2,3]\n",
    "print(x.count(1))\n",
    "print(x.count(2))\n",
    "print(x.count(3))"
   ]
  },
  {
   "cell_type": "code",
   "execution_count": 36,
   "metadata": {},
   "outputs": [
    {
     "name": "stdout",
     "output_type": "stream",
     "text": [
      "[1, 2, 1, 2, 1, 2, 1, 2, 3]\n"
     ]
    }
   ],
   "source": [
    "z = x.copy()\n",
    "print(z)"
   ]
  },
  {
   "cell_type": "code",
   "execution_count": 37,
   "metadata": {},
   "outputs": [],
   "source": [
    "a = 10\n",
    "b = a  # this is ok\n",
    "x = [2,31,3,123,123,1,3]  # list is datastructure\n",
    "y = x.copy()  # this is ok"
   ]
  },
  {
   "cell_type": "code",
   "execution_count": null,
   "metadata": {},
   "outputs": [],
   "source": []
  }
 ],
 "metadata": {
  "kernelspec": {
   "display_name": "base",
   "language": "python",
   "name": "python3"
  },
  "language_info": {
   "codemirror_mode": {
    "name": "ipython",
    "version": 3
   },
   "file_extension": ".py",
   "mimetype": "text/x-python",
   "name": "python",
   "nbconvert_exporter": "python",
   "pygments_lexer": "ipython3",
   "version": "3.10.8"
  },
  "orig_nbformat": 4,
  "vscode": {
   "interpreter": {
    "hash": "86e6016e0c90583c74e540beea159c904b10886bddac9d9198975ca2a6dd9f68"
   }
  }
 },
 "nbformat": 4,
 "nbformat_minor": 2
}
