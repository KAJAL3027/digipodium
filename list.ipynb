{
 "cells": [
  {
   "cell_type": "code",
   "execution_count": 3,
   "metadata": {},
   "outputs": [],
   "source": [
    "a=[] # empty list\n",
    "b=[1,2,3,4,5,6,7,] # list of integers\n",
    "c=['apple','banana','orange'] # list of strings\n",
    "d=[[1,2,3],[4,5,6],[7,8,9]] #list of lists (nested list)\n",
    "e=['apple',20, False ,'mango',50.5,True]"
   ]
  },
  {
   "cell_type": "code",
   "execution_count": 4,
   "metadata": {},
   "outputs": [
    {
     "name": "stdout",
     "output_type": "stream",
     "text": [
      "['t', 'h', 'e', ' ', 'l', 'o', 's', 't', ' ', 'm', 'e', 't', 'a', 'l']\n"
     ]
    }
   ],
   "source": [
    "word='the lost metal'\n",
    "chars=list(word)\n",
    "print(chars)"
   ]
  },
  {
   "cell_type": "code",
   "execution_count": 6,
   "metadata": {},
   "outputs": [
    {
     "name": "stdout",
     "output_type": "stream",
     "text": [
      "[1, 2, 3, 1, 2, 3, 1, 2, 3, 1, 2, 3, 1, 2, 3]\n"
     ]
    }
   ],
   "source": [
    "f=[1,2,3] * 5 # repeat list 5 times\n",
    "print(f)"
   ]
  },
  {
   "cell_type": "code",
   "execution_count": 7,
   "metadata": {},
   "outputs": [],
   "source": [
    "name = input(\"enter a name:\")\n",
    "a.append(name)"
   ]
  },
  {
   "cell_type": "code",
   "execution_count": 16,
   "metadata": {},
   "outputs": [
    {
     "data": {
      "text/plain": [
       "15"
      ]
     },
     "execution_count": 16,
     "metadata": {},
     "output_type": "execute_result"
    }
   ],
   "source": [
    "movies=['badla','baazigar','shershah','race','kabir singh','selfie',\n",
    "'harry potter','mission majnu','mirzapur','swarg','baghbaan','pathaan',\n",
    "'lost','thank god','broken heart']\n",
    "len(movies)"
   ]
  },
  {
   "cell_type": "code",
   "execution_count": 17,
   "metadata": {},
   "outputs": [
    {
     "name": "stdout",
     "output_type": "stream",
     "text": [
      "harry potter\n",
      "broken heart\n"
     ]
    }
   ],
   "source": [
    "print(movies[6])\n",
    "print(movies[-1])"
   ]
  },
  {
   "cell_type": "code",
   "execution_count": 18,
   "metadata": {},
   "outputs": [
    {
     "name": "stdout",
     "output_type": "stream",
     "text": [
      "['badla', 'baazigar', 'shershah', 'race', 'race', 'selfie', 'harry potter', 'mission majnu', 'mirzapur', 'swarg', 'baghbaan', 'pathaan', 'lost', 'thank god', 'broken heart']\n"
     ]
    }
   ],
   "source": [
    "movies[4] = 'race'\n",
    "print(movies)"
   ]
  },
  {
   "cell_type": "code",
   "execution_count": 20,
   "metadata": {},
   "outputs": [
    {
     "name": "stdout",
     "output_type": "stream",
     "text": [
      "['badla', 'baazigar', 'shershah', 'race', 'race']\n",
      "['baghbaan', 'pathaan', 'lost', 'thank god', 'broken heart']\n",
      "['race', 'race', 'selfie', 'harry potter', 'mission majnu', 'mirzapur', 'swarg', 'baghbaan', 'pathaan']\n",
      "['broken heart', 'thank god', 'lost', 'pathaan', 'baghbaan', 'swarg', 'mirzapur', 'mission majnu', 'harry potter', 'selfie', 'race', 'race', 'shershah', 'baazigar', 'badla']\n",
      "['badla', 'race', 'harry potter', 'swarg', 'lost']\n"
     ]
    }
   ],
   "source": [
    "# first 5 movies\n",
    "print (movies[:5])\n",
    "# last 5 movies\n",
    "print(movies[-5:])\n",
    "# all movies except first 3 and last 3\n",
    "print(movies[3:-3])\n",
    "# all movies but in reverse order \n",
    "print(movies[::-1])\n",
    "# only even indexed movies \n",
    "print(movies[::3])"
   ]
  },
  {
   "cell_type": "code",
   "execution_count": null,
   "metadata": {},
   "outputs": [],
   "source": []
  }
 ],
 "metadata": {
  "kernelspec": {
   "display_name": "base",
   "language": "python",
   "name": "python3"
  },
  "language_info": {
   "codemirror_mode": {
    "name": "ipython",
    "version": 3
   },
   "file_extension": ".py",
   "mimetype": "text/x-python",
   "name": "python",
   "nbconvert_exporter": "python",
   "pygments_lexer": "ipython3",
   "version": "3.10.8"
  },
  "orig_nbformat": 4,
  "vscode": {
   "interpreter": {
    "hash": "86e6016e0c90583c74e540beea159c904b10886bddac9d9198975ca2a6dd9f68"
   }
  }
 },
 "nbformat": 4,
 "nbformat_minor": 2
}
