{
 "cells": [
  {
   "attachments": {},
   "cell_type": "markdown",
   "metadata": {},
   "source": [
    "# Conditional Statement"
   ]
  },
  {
   "cell_type": "code",
   "execution_count": 16,
   "metadata": {},
   "outputs": [
    {
     "name": "stdout",
     "output_type": "stream",
     "text": [
      "you are going to run this part\n",
      "you are going to see this part also\n",
      "count is even\n"
     ]
    }
   ],
   "source": [
    "count=int(input(\"enter a value\"))\n",
    "if count>5:\n",
    "    print(\"you are going to run this part\")\n",
    "if count>15:\n",
    "    print (\"you are going to see this part also\")\n",
    "if count%2==0:\n",
    "    print(\"count is even\")"
   ]
  },
  {
   "cell_type": "code",
   "execution_count": 17,
   "metadata": {},
   "outputs": [
    {
     "name": "stdout",
     "output_type": "stream",
     "text": [
      "a=10 is greater\n"
     ]
    }
   ],
   "source": [
    "a=10\n",
    "b=5\n",
    "c=3\n",
    "if a>b and a>c:\n",
    "    print(f'{a=} is greater')\n",
    "    if b>c and b>a:\n",
    "        print(f'{b=} is greater')\n",
    "        if c>a and c>b:\n",
    "            print(f'{c} is greater')"
   ]
  },
  {
   "cell_type": "code",
   "execution_count": 19,
   "metadata": {},
   "outputs": [
    {
     "name": "stdout",
     "output_type": "stream",
     "text": [
      "I am a genius\n"
     ]
    }
   ],
   "source": [
    "a=int(input('enter first number:'))\n",
    "b=int(input('enter second number:'))\n",
    "if a>=b:\n",
    "    print('I am a genius')\n",
    "else:\n",
    "    print('you are a fool')"
   ]
  },
  {
   "cell_type": "code",
   "execution_count": 31,
   "metadata": {},
   "outputs": [
    {
     "name": "stdout",
     "output_type": "stream",
     "text": [
      "hurray😁\n"
     ]
    }
   ],
   "source": [
    "username=input('enter your name')\n",
    "email=input('enter your email')\n",
    "pwd=input('enter new password')\n",
    "pwd2=input('confirm your password')\n",
    "\n",
    "if len(username)>=4 and len(username)<=15:\n",
    "      if'@' in email and email.islower() and len(email)>10:\n",
    "          if pwd==pwd2:\n",
    "              print(\"hurray😁\")\n",
    "          else:\n",
    "            print(\"password do not match😒\")\n",
    "      else:\n",
    "        print(\"email is invalid 🤦‍♀️\") \n",
    "else:\n",
    "   print(\"username is invalid 🤷‍♂️\")"
   ]
  },
  {
   "cell_type": "code",
   "execution_count": 20,
   "metadata": {},
   "outputs": [
    {
     "data": {
      "text/plain": [
       "12"
      ]
     },
     "execution_count": 20,
     "metadata": {},
     "output_type": "execute_result"
    }
   ],
   "source": [
    "list=['google','myntra','whatsapp','chrome','weather','spotify','instagram','telegram','flipkart','amazaon','arogya setu','classroom']\n",
    "len(list)"
   ]
  },
  {
   "attachments": {},
   "cell_type": "markdown",
   "metadata": {},
   "source": [
    "# if-elif"
   ]
  },
  {
   "cell_type": "code",
   "execution_count": 32,
   "metadata": {},
   "outputs": [
    {
     "name": "stdout",
     "output_type": "stream",
     "text": [
      "you are intelligent\n"
     ]
    }
   ],
   "source": [
    "name=input(\"Enter your name:\")\n",
    "max_marks=int(input('Enter the marks:'))\n",
    "if max_marks>90:\n",
    "    print(\"you are outstanding\")\n",
    "elif max_marks>75:\n",
    "    print(\"you are intelligent\")\n",
    "elif max_marks>60:\n",
    "    print(\"you are a good performer\")\n",
    "else:\n",
    "    print(\"poor\")"
   ]
  },
  {
   "cell_type": "code",
   "execution_count": 37,
   "metadata": {},
   "outputs": [
    {
     "name": "stdout",
     "output_type": "stream",
     "text": [
      "number is even 56\n"
     ]
    }
   ],
   "source": [
    "num = int(input('enter a number'))\n",
    "if num%2==0:\n",
    "    print('number is even',+num)\n",
    "else:\n",
    "    print('number is odd',+num)"
   ]
  },
  {
   "cell_type": "code",
   "execution_count": null,
   "metadata": {},
   "outputs": [],
   "source": []
  }
 ],
 "metadata": {
  "kernelspec": {
   "display_name": "base",
   "language": "python",
   "name": "python3"
  },
  "language_info": {
   "codemirror_mode": {
    "name": "ipython",
    "version": 3
   },
   "file_extension": ".py",
   "mimetype": "text/x-python",
   "name": "python",
   "nbconvert_exporter": "python",
   "pygments_lexer": "ipython3",
   "version": "3.10.8"
  },
  "orig_nbformat": 4,
  "vscode": {
   "interpreter": {
    "hash": "86e6016e0c90583c74e540beea159c904b10886bddac9d9198975ca2a6dd9f68"
   }
  }
 },
 "nbformat": 4,
 "nbformat_minor": 2
}
