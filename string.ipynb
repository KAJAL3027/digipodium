{
 "cells": [
  {
   "cell_type": "code",
   "execution_count": 2,
   "metadata": {},
   "outputs": [
    {
     "name": "stdout",
     "output_type": "stream",
     "text": [
      "a= digipodium\n",
      "a[0]= d\n",
      "a[1]= i\n",
      "a[2]= g\n",
      "a[3]= i\n"
     ]
    }
   ],
   "source": [
    "#accessing string characters in python\n",
    "a='digipodium'\n",
    "print('a=',a)\n",
    "\n",
    "#first character\n",
    "print('a[0]=',a[0])\n",
    "\n",
    "#second character\n",
    "print('a[1]=',a[1])\n",
    "\n",
    "#third character\n",
    "print('a[2]=',a[2])\n",
    "\n",
    "#fourth character\n",
    "print('a[3]=',a[3])"
   ]
  },
  {
   "attachments": {},
   "cell_type": "markdown",
   "metadata": {},
   "source": [
    "SLICING"
   ]
  },
  {
   "cell_type": "code",
   "execution_count": null,
   "metadata": {},
   "outputs": [],
   "source": []
  },
  {
   "cell_type": "code",
   "execution_count": 4,
   "metadata": {},
   "outputs": [
    {
     "data": {
      "text/plain": [
       "26"
      ]
     },
     "execution_count": 4,
     "metadata": {},
     "output_type": "execute_result"
    }
   ],
   "source": [
    "alphabets=\"abcdefghijklmnopqrstuvwxyz\"\n",
    "len(alphabets)"
   ]
  },
  {
   "attachments": {},
   "cell_type": "markdown",
   "metadata": {},
   "source": [
    "syntax \n",
    "\n",
    "s[start : end : step]\n",
    "\n",
    "s[:end] # from 0 to end \n",
    "\n",
    "s[start:] # from start to end"
   ]
  },
  {
   "cell_type": "code",
   "execution_count": 5,
   "metadata": {},
   "outputs": [
    {
     "data": {
      "text/plain": [
       "'ghijklmnopqrst'"
      ]
     },
     "execution_count": 5,
     "metadata": {},
     "output_type": "execute_result"
    }
   ],
   "source": [
    "alphabets[6:-6]"
   ]
  },
  {
   "cell_type": "code",
   "execution_count": 9,
   "metadata": {},
   "outputs": [
    {
     "name": "stdout",
     "output_type": "stream",
     "text": [
      "abcde vwxyz pqrst\n"
     ]
    }
   ],
   "source": [
    "first_five = alphabets[:5] #first five characters\n",
    "last_five = alphabets[-5:]  #last five characters\n",
    "x =15\n",
    "high_five = alphabets[x:x+5] #5 characters starting at index 10 \n",
    "print(first_five,last_five,high_five)"
   ]
  },
  {
   "cell_type": "code",
   "execution_count": 10,
   "metadata": {},
   "outputs": [
    {
     "name": "stdout",
     "output_type": "stream",
     "text": [
      "acegikmoqsuwy\n"
     ]
    }
   ],
   "source": [
    "every_even_index = alphabets[::2] # every other character\n",
    "print(every_even_index)"
   ]
  },
  {
   "cell_type": "code",
   "execution_count": 12,
   "metadata": {},
   "outputs": [
    {
     "name": "stdout",
     "output_type": "stream",
     "text": [
      "bdfhjlnprtvxz\n"
     ]
    }
   ],
   "source": [
    "every_odd_index = alphabets[1::2] # every other character,starting at index 1\n",
    "print(every_odd_index)"
   ]
  },
  {
   "cell_type": "code",
   "execution_count": 15,
   "metadata": {},
   "outputs": [
    {
     "name": "stdout",
     "output_type": "stream",
     "text": [
      "kjlpne\n",
      "ajal pandey\n",
      "yednap lajak\n"
     ]
    }
   ],
   "source": [
    "name ='kajal pandey'\n",
    "name_even = name[::2]\n",
    "name_odd = name[1::1]\n",
    "rev_name = name[::-1] #reverse the string using negative step\n",
    "print(name_even,name_odd,rev_name,sep='\\n')"
   ]
  },
  {
   "cell_type": "code",
   "execution_count": 18,
   "metadata": {},
   "outputs": [
    {
     "name": "stdout",
     "output_type": "stream",
     "text": [
      "65\n",
      "66\n",
      "67\n",
      "128514\n",
      "10060\n"
     ]
    }
   ],
   "source": [
    "print(ord('A'))\n",
    "print(ord('B'))\n",
    "print(ord('C'))\n",
    "print(ord('😂'))\n",
    "print(ord('❌'))"
   ]
  },
  {
   "cell_type": "code",
   "execution_count": 19,
   "metadata": {},
   "outputs": [
    {
     "name": "stdout",
     "output_type": "stream",
     "text": [
      "\u0000\n",
      "\u0001\n",
      "😄\n"
     ]
    }
   ],
   "source": [
    "print(chr(0))\n",
    "print(chr(1))\n",
    "print(chr(128516))"
   ]
  },
  {
   "cell_type": "code",
   "execution_count": 21,
   "metadata": {},
   "outputs": [
    {
     "name": "stdout",
     "output_type": "stream",
     "text": [
      "hihihi\n"
     ]
    }
   ],
   "source": [
    "word = 'hi'\n",
    "print(word * 3)"
   ]
  },
  {
   "cell_type": "code",
   "execution_count": 23,
   "metadata": {},
   "outputs": [
    {
     "name": "stdout",
     "output_type": "stream",
     "text": [
      "                        *                         \n",
      "                     *  *  *                      \n",
      "                  *  *  *  *  *                   \n",
      "               *  *  *  *  *  *  *                \n",
      "            *  *  *  *  *  *  *  *  *             \n",
      "         *  *  *  *  *  *  *  *  *  *  *          \n",
      "      *  *  *  *  *  *  *  *  *  *  *  *  *       \n"
     ]
    }
   ],
   "source": [
    "for i in range(1,15,2):\n",
    "  print((i* ' * ').center(50))"
   ]
  },
  {
   "cell_type": "code",
   "execution_count": null,
   "metadata": {},
   "outputs": [],
   "source": []
  },
  {
   "cell_type": "code",
   "execution_count": null,
   "metadata": {},
   "outputs": [],
   "source": []
  }
 ],
 "metadata": {
  "kernelspec": {
   "display_name": "base",
   "language": "python",
   "name": "python3"
  },
  "language_info": {
   "codemirror_mode": {
    "name": "ipython",
    "version": 3
   },
   "file_extension": ".py",
   "mimetype": "text/x-python",
   "name": "python",
   "nbconvert_exporter": "python",
   "pygments_lexer": "ipython3",
   "version": "3.10.8"
  },
  "orig_nbformat": 4,
  "vscode": {
   "interpreter": {
    "hash": "86e6016e0c90583c74e540beea159c904b10886bddac9d9198975ca2a6dd9f68"
   }
  }
 },
 "nbformat": 4,
 "nbformat_minor": 2
}
